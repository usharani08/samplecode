{
 "cells": [
  {
   "cell_type": "code",
   "execution_count": 1,
   "id": "74067564",
   "metadata": {},
   "outputs": [
    {
     "data": {
      "text/plain": [
       "3"
      ]
     },
     "execution_count": 1,
     "metadata": {},
     "output_type": "execute_result"
    }
   ],
   "source": [
    "1+2\n"
   ]
  },
  {
   "cell_type": "code",
   "execution_count": 2,
   "id": "9e173f2e",
   "metadata": {},
   "outputs": [
    {
     "data": {
      "text/plain": [
       "5"
      ]
     },
     "execution_count": 2,
     "metadata": {},
     "output_type": "execute_result"
    }
   ],
   "source": [
    "2+3 \n"
   ]
  },
  {
   "cell_type": "code",
   "execution_count": 3,
   "id": "9bc299f4",
   "metadata": {},
   "outputs": [
    {
     "data": {
      "text/plain": [
       "'usha'"
      ]
     },
     "execution_count": 3,
     "metadata": {},
     "output_type": "execute_result"
    }
   ],
   "source": [
    "\"usha\""
   ]
  },
  {
   "cell_type": "markdown",
   "id": "858e129b",
   "metadata": {},
   "source": [
    "hghhggjjjj\n"
   ]
  },
  {
   "cell_type": "markdown",
   "id": "44882af3",
   "metadata": {},
   "source": [
    "# coding exercise"
   ]
  },
  {
   "cell_type": "markdown",
   "id": "4dd46d4d",
   "metadata": {},
   "source": [
    "hfhffhh"
   ]
  },
  {
   "cell_type": "code",
   "execution_count": 4,
   "id": "e32fcb7b",
   "metadata": {},
   "outputs": [
    {
     "data": {
      "text/plain": [
       "'/Users/dasarathyt'"
      ]
     },
     "execution_count": 4,
     "metadata": {},
     "output_type": "execute_result"
    }
   ],
   "source": [
    "pwd"
   ]
  },
  {
   "cell_type": "code",
   "execution_count": null,
   "id": "9b257185",
   "metadata": {},
   "outputs": [],
   "source": []
  }
 ],
 "metadata": {
  "kernelspec": {
   "display_name": "Python 3 (ipykernel)",
   "language": "python",
   "name": "python3"
  },
  "language_info": {
   "codemirror_mode": {
    "name": "ipython",
    "version": 3
   },
   "file_extension": ".py",
   "mimetype": "text/x-python",
   "name": "python",
   "nbconvert_exporter": "python",
   "pygments_lexer": "ipython3",
   "version": "3.9.7"
  }
 },
 "nbformat": 4,
 "nbformat_minor": 5
}
